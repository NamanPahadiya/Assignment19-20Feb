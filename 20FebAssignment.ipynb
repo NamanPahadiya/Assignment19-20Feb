{
 "cells": [
  {
   "cell_type": "markdown",
   "metadata": {},
   "source": [
    "# Ans 1:"
   ]
  },
  {
   "cell_type": "code",
   "execution_count": 1,
   "metadata": {},
   "outputs": [
    {
     "data": {
      "text/plain": [
       "'POST Method'"
      ]
     },
     "execution_count": 1,
     "metadata": {},
     "output_type": "execute_result"
    }
   ],
   "source": [
    "\"\"\"The GET and POST methods are two of the most commonly used HTTP methods for interacting with web resources\"\"\"\n",
    "\n",
    "\n",
    "\"\"\"GET Method\"\"\"\n",
    "# The GET method is primarily used to request data from a specified resource.\n",
    "# Data is sent to the server as part of the URL in the form of query parameters. These parameters are visible in the URL.\n",
    "# It is not suitable for sending sensitive information, such as passwords.\n",
    "\n",
    "\"\"\"POST Method\"\"\"\n",
    "#  The POST method is used to submit data to be processed to a specified resource.\n",
    "#  Data is sent to the server in the request body. This means the data is not visible in the URL.\n",
    "#  Which makes POST suitable for sending sensitive information.\n"
   ]
  },
  {
   "cell_type": "markdown",
   "metadata": {},
   "source": [
    "# Ans 2:"
   ]
  },
  {
   "cell_type": "code",
   "execution_count": 1,
   "metadata": {},
   "outputs": [],
   "source": [
    "# In Flask, the request object is used to access and manipulate incoming HTTP request data from a client when processing web requests.\n",
    "# The request object allows you to access this data. For example, you can retrieve values submitted in text fields, checkboxes, radio buttons, etc. \n",
    "# You can use request.method to check whether the incoming request is a GET, POST, PUT, DELETE, or another HTTP method\n",
    "# When clients upload files, such as images or documents, you can access and process these files using the request object"
   ]
  },
  {
   "cell_type": "markdown",
   "metadata": {},
   "source": [
    "# Ans 3:"
   ]
  },
  {
   "cell_type": "code",
   "execution_count": 2,
   "metadata": {},
   "outputs": [
    {
     "data": {
      "text/plain": [
       "\"\\nThe redirect() function is used to perform HTTP redirects.\\nIt's a powerful tool for controlling the flow of a web application by sending the client's browser to a different URL or route.\\n\\n\""
      ]
     },
     "execution_count": 2,
     "metadata": {},
     "output_type": "execute_result"
    }
   ],
   "source": [
    "\"\"\"\n",
    "The redirect() function is used to perform HTTP redirects.\n",
    "It's a powerful tool for controlling the flow of a web application by sending the client's browser to a different URL or route.\n",
    "\n",
    "\"\"\"\n",
    "\n",
    "# When making changes to URL structure, you can use redirects to ensure that users who access old URLs are automatically redirected to the new ones.\n",
    "# When a user accesses a specific route or URL, you may want to send them to another route or URL. \n"
   ]
  },
  {
   "cell_type": "markdown",
   "metadata": {},
   "source": [
    "# Ans 4:"
   ]
  },
  {
   "cell_type": "code",
   "execution_count": 1,
   "metadata": {},
   "outputs": [
    {
     "data": {
      "text/plain": [
       "'\\nIn Flask, templates are used to separate the structure of an HTML page from its content. \\nThey allow you to create HTML files with placeholders for dynamic data, making it easier to generate dynamic web pages.\\n'"
      ]
     },
     "execution_count": 1,
     "metadata": {},
     "output_type": "execute_result"
    }
   ],
   "source": [
    "\"\"\"\n",
    "In Flask, templates are used to separate the structure of an HTML page from its content. \n",
    "They allow you to create HTML files with placeholders for dynamic data, making it easier to generate dynamic web pages.\n",
    "\"\"\"\n",
    "\n",
    "# The render_template() function in Flask is used to render HTML templates by filling in the placeholders with actual data. \n",
    "# By using templates, you can separate the presentation layer (HTML) from the business logic of your application.\n",
    "# Templates ensure a consistent look and feel for your web application. You can define the structure, layout, and styling in one place and reuse it throughout your site."
   ]
  },
  {
   "cell_type": "markdown",
   "metadata": {},
   "source": [
    "# Ans 5:"
   ]
  },
  {
   "cell_type": "code",
   "execution_count": 6,
   "metadata": {},
   "outputs": [
    {
     "name": "stdout",
     "output_type": "stream",
     "text": [
      " * Serving Flask app '__main__'\n",
      " * Debug mode: off\n"
     ]
    },
    {
     "name": "stderr",
     "output_type": "stream",
     "text": [
      "\u001b[31m\u001b[1mWARNING: This is a development server. Do not use it in a production deployment. Use a production WSGI server instead.\u001b[0m\n",
      " * Running on all addresses (0.0.0.0)\n",
      " * Running on http://127.0.0.1:5000\n",
      " * Running on http://172.18.0.36:5000\n",
      "\u001b[33mPress CTRL+C to quit\u001b[0m\n",
      "[2023-08-26 16:42:19,703] ERROR in app: Exception on /input_string [GET]\n",
      "Traceback (most recent call last):\n",
      "  File \"/config/.local/lib/python3.8/site-packages/flask/app.py\", line 2190, in wsgi_app\n",
      "    response = self.full_dispatch_request()\n",
      "  File \"/config/.local/lib/python3.8/site-packages/flask/app.py\", line 1486, in full_dispatch_request\n",
      "    rv = self.handle_user_exception(e)\n",
      "  File \"/config/.local/lib/python3.8/site-packages/flask/app.py\", line 1484, in full_dispatch_request\n",
      "    rv = self.dispatch_request()\n",
      "  File \"/config/.local/lib/python3.8/site-packages/flask/app.py\", line 1469, in dispatch_request\n",
      "    return self.ensure_sync(self.view_functions[rule.endpoint])(**view_args)\n",
      "  File \"/tmp/ipykernel_404/3205865556.py\", line 9, in string_reverse\n",
      "    data1 =data[::-1]\n",
      "TypeError: 'NoneType' object is not subscriptable\n",
      "172.18.0.2 - - [26/Aug/2023 16:42:19] \"\u001b[35m\u001b[1mGET /input_string HTTP/1.1\u001b[0m\" 500 -\n",
      "[2023-08-26 16:43:55,801] ERROR in app: Exception on /input_string [GET]\n",
      "Traceback (most recent call last):\n",
      "  File \"/config/.local/lib/python3.8/site-packages/flask/app.py\", line 2190, in wsgi_app\n",
      "    response = self.full_dispatch_request()\n",
      "  File \"/config/.local/lib/python3.8/site-packages/flask/app.py\", line 1486, in full_dispatch_request\n",
      "    rv = self.handle_user_exception(e)\n",
      "  File \"/config/.local/lib/python3.8/site-packages/flask/app.py\", line 1484, in full_dispatch_request\n",
      "    rv = self.dispatch_request()\n",
      "  File \"/config/.local/lib/python3.8/site-packages/flask/app.py\", line 1469, in dispatch_request\n",
      "    return self.ensure_sync(self.view_functions[rule.endpoint])(**view_args)\n",
      "  File \"/tmp/ipykernel_404/3205865556.py\", line 9, in string_reverse\n",
      "    data1 =data[::-1]\n",
      "TypeError: 'NoneType' object is not subscriptable\n",
      "172.18.0.2 - - [26/Aug/2023 16:43:55] \"\u001b[35m\u001b[1mGET /input_string HTTP/1.1\u001b[0m\" 500 -\n",
      "[2023-08-26 16:44:11,221] ERROR in app: Exception on /input_string [GET]\n",
      "Traceback (most recent call last):\n",
      "  File \"/config/.local/lib/python3.8/site-packages/flask/app.py\", line 2190, in wsgi_app\n",
      "    response = self.full_dispatch_request()\n",
      "  File \"/config/.local/lib/python3.8/site-packages/flask/app.py\", line 1486, in full_dispatch_request\n",
      "    rv = self.handle_user_exception(e)\n",
      "  File \"/config/.local/lib/python3.8/site-packages/flask/app.py\", line 1484, in full_dispatch_request\n",
      "    rv = self.dispatch_request()\n",
      "  File \"/config/.local/lib/python3.8/site-packages/flask/app.py\", line 1469, in dispatch_request\n",
      "    return self.ensure_sync(self.view_functions[rule.endpoint])(**view_args)\n",
      "  File \"/tmp/ipykernel_404/3205865556.py\", line 9, in string_reverse\n",
      "    data1 =data[::-1]\n",
      "TypeError: 'NoneType' object is not subscriptable\n",
      "172.18.0.2 - - [26/Aug/2023 16:44:11] \"\u001b[35m\u001b[1mGET /input_string?x%20=%20vikram HTTP/1.1\u001b[0m\" 500 -\n",
      "172.18.0.2 - - [26/Aug/2023 16:47:09] \"GET /input_string?x=vikram HTTP/1.1\" 200 -\n"
     ]
    }
   ],
   "source": [
    "# API which gives reverse of a string.\n",
    "from flask import Flask ,request\n",
    "\n",
    "app = Flask(__name__)\n",
    "\n",
    "@app.route(\"/input_string\")\n",
    "def string_reverse():\n",
    "    data = request.args.get('x')\n",
    "    data1 =data[::-1]\n",
    "    return f\"The reverse of {data} is {data1}\"\n",
    "\n",
    "if __name__ == \"__main__\":\n",
    "    app.run(host =\"0.0.0.0\")\n",
    "\n",
    "    "
   ]
  },
  {
   "cell_type": "markdown",
   "metadata": {},
   "source": [
    "![Ans 5](Screenshot4.png)"
   ]
  },
  {
   "cell_type": "code",
   "execution_count": null,
   "metadata": {},
   "outputs": [],
   "source": []
  }
 ],
 "metadata": {
  "kernelspec": {
   "display_name": "Python 3.8.10 64-bit",
   "language": "python",
   "name": "python3"
  },
  "language_info": {
   "codemirror_mode": {
    "name": "ipython",
    "version": 3
   },
   "file_extension": ".py",
   "mimetype": "text/x-python",
   "name": "python",
   "nbconvert_exporter": "python",
   "pygments_lexer": "ipython3",
   "version": "3.8.10"
  },
  "orig_nbformat": 4,
  "vscode": {
   "interpreter": {
    "hash": "e7370f93d1d0cde622a1f8e1c04877d8463912d04d973331ad4851f04de6915a"
   }
  }
 },
 "nbformat": 4,
 "nbformat_minor": 2
}
