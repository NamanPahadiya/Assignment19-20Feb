{
 "cells": [
  {
   "cell_type": "markdown",
   "metadata": {},
   "source": [
    "# Ans 1:\n",
    "\n"
   ]
  },
  {
   "cell_type": "code",
   "execution_count": 1,
   "metadata": {},
   "outputs": [
    {
     "data": {
      "text/plain": [
       "'Advantages of Flask Framework'"
      ]
     },
     "execution_count": 1,
     "metadata": {},
     "output_type": "execute_result"
    }
   ],
   "source": [
    "\"\"\"\n",
    "Flask is a lightweight and web micro-framework for Python. It's designed to be simple and easy to use, making it an excellent choice for building web applications and APIs.\n",
    "\"\"\"\n",
    "\n",
    "\n",
    "\"\"\"Advantages of a Flask Framework\"\"\"\n",
    "# Flask is well-suited for building RESTful APIs. It is easy to define routes and handle HTTP methods like GET, POST, PUT, and DELETE.\n",
    "# Flask is known for its simplicity and minimalism. It doesn't come with a lot of built-in features.\n",
    "# Flask gives developers the flexibility to use any libraries, tools, or extensions they prefer.\n",
    "# Flask comes with a built-in development server, so you can start building and testing your application right away without the need for additional setup.\n"
   ]
  },
  {
   "cell_type": "markdown",
   "metadata": {},
   "source": [
    "# Ans 2:"
   ]
  },
  {
   "cell_type": "code",
   "execution_count": 1,
   "metadata": {},
   "outputs": [
    {
     "name": "stdout",
     "output_type": "stream",
     "text": [
      " * Serving Flask app '__main__'\n",
      " * Debug mode: off\n"
     ]
    },
    {
     "name": "stderr",
     "output_type": "stream",
     "text": [
      "\u001b[31m\u001b[1mWARNING: This is a development server. Do not use it in a production deployment. Use a production WSGI server instead.\u001b[0m\n",
      " * Running on all addresses (0.0.0.0)\n",
      " * Running on http://127.0.0.1:5000\n",
      " * Running on http://172.18.0.3:5000\n",
      "\u001b[33mPress CTRL+C to quit\u001b[0m\n",
      "172.18.0.2 - - [26/Aug/2023 10:08:06] \"GET / HTTP/1.1\" 200 -\n",
      "172.18.0.2 - - [26/Aug/2023 10:08:06] \"\u001b[33mGET /favicon.ico HTTP/1.1\u001b[0m\" 404 -\n"
     ]
    }
   ],
   "source": [
    "from flask import Flask\n",
    "\n",
    "icon = Flask(__name__)\n",
    "@icon.route(\"/\")\n",
    "def hello_world():\n",
    "    return  'Hello World!!'\n",
    "\n",
    "if __name__ == \"__main__\":\n",
    "    icon.run(host = \"0.0.0.0\")\n"
   ]
  },
  {
   "cell_type": "markdown",
   "metadata": {},
   "source": [
    "![2 Ans](Screenshot1.png)"
   ]
  },
  {
   "cell_type": "markdown",
   "metadata": {},
   "source": [
    "# Ans 3:"
   ]
  },
  {
   "cell_type": "code",
   "execution_count": 2,
   "metadata": {},
   "outputs": [
    {
     "data": {
      "text/plain": [
       "'App routes in flask are used for:-'"
      ]
     },
     "execution_count": 2,
     "metadata": {},
     "output_type": "execute_result"
    }
   ],
   "source": [
    "\"\"\"\n",
    "App routing refers to the process of defining URLs (Uniform Resource Locators) and mapping them to specific functions in your application. \n",
    "These URLs are used to determine which function should be executed when a particular URL is accessed by a user.\n",
    "\"\"\"\n",
    "\"\"\"App routes in flask are used for:-\"\"\"\n",
    "# They define how URLs are mapped to specific functions in your application making it easier to organize our code.\n",
    "# They define how URLs are mapped to specific functions in your application. \n",
    "# Routes can capture dynamic data from the URL, enabling you to create flexible and data-driven web applications. "
   ]
  },
  {
   "cell_type": "markdown",
   "metadata": {},
   "source": [
    "# Ans 4:"
   ]
  },
  {
   "cell_type": "code",
   "execution_count": 11,
   "metadata": {},
   "outputs": [
    {
     "name": "stdout",
     "output_type": "stream",
     "text": [
      " * Serving Flask app '__main__'\n",
      " * Debug mode: off\n"
     ]
    },
    {
     "name": "stderr",
     "output_type": "stream",
     "text": [
      "\u001b[31m\u001b[1mWARNING: This is a development server. Do not use it in a production deployment. Use a production WSGI server instead.\u001b[0m\n",
      " * Running on all addresses (0.0.0.0)\n",
      " * Running on http://127.0.0.1:5000\n",
      " * Running on http://172.18.0.3:5000\n",
      "\u001b[33mPress CTRL+C to quit\u001b[0m\n",
      "172.18.0.2 - - [26/Aug/2023 10:56:41] \"GET /welcome HTTP/1.1\" 200 -\n"
     ]
    }
   ],
   "source": [
    "app = Flask(__name__)\n",
    "@app.route(\"/welcome\")\n",
    "def welcome():\n",
    "    return \"Welcome to ABC Corporation\"\n",
    "\n",
    "@app.route(\"/\")\n",
    "def information():\n",
    "    return '''\n",
    "         Company Name: ABC Corporation <br>\n",
    "         Location: India <br>\n",
    "         Contact Detail: 999-999-9999\n",
    "    '''  \n",
    "    \n",
    "if __name__ == \"__main__\":\n",
    "    app.run(host =\"0.0.0.0\")\n"
   ]
  },
  {
   "cell_type": "markdown",
   "metadata": {},
   "source": [
    "![4 Ans (a)](Screenshot2.png)"
   ]
  },
  {
   "cell_type": "markdown",
   "metadata": {},
   "source": [
    "![4 Ans (b)](Screenshot3.png)"
   ]
  },
  {
   "cell_type": "markdown",
   "metadata": {},
   "source": [
    "# Ans 5:"
   ]
  },
  {
   "cell_type": "code",
   "execution_count": 19,
   "metadata": {},
   "outputs": [
    {
     "name": "stdout",
     "output_type": "stream",
     "text": [
      " * Serving Flask app '__main__'\n",
      " * Debug mode: off\n"
     ]
    },
    {
     "name": "stderr",
     "output_type": "stream",
     "text": [
      "\u001b[31m\u001b[1mWARNING: This is a development server. Do not use it in a production deployment. Use a production WSGI server instead.\u001b[0m\n",
      " * Running on all addresses (0.0.0.0)\n",
      " * Running on http://127.0.0.1:5000\n",
      " * Running on http://172.18.0.3:5000\n",
      "\u001b[33mPress CTRL+C to quit\u001b[0m\n",
      "172.18.0.2 - - [26/Aug/2023 11:20:27] \"\u001b[33mGET / HTTP/1.1\u001b[0m\" 404 -\n"
     ]
    },
    {
     "name": "stdout",
     "output_type": "stream",
     "text": [
      "URL for hello function: /hello\n"
     ]
    }
   ],
   "source": [
    "\"\"\"\n",
    "url_for() function is used for URL building. It generates a URL for a specific view function based on its name.\n",
    "This is helpful because it allows you to change URLs in your application without having to manually update every reference to that URL.\n",
    "\"\"\"\n",
    "from flask import Flask, url_for\n",
    "app = Flask(__name__)\n",
    "@app.route(\"/hello\")\n",
    "def Hello():\n",
    "    return \"Hello World\"\n",
    "\n",
    "if __name__ == \"__main__\":\n",
    "    with app.test_request_context():\n",
    "        app.run(host = \"0.0.0.0\")\n",
    "        url = url_for('Hello')\n",
    "        print(f'URL for hello function: {url}')"
   ]
  }
 ],
 "metadata": {
  "kernelspec": {
   "display_name": "Python 3.8.10 64-bit",
   "language": "python",
   "name": "python3"
  },
  "language_info": {
   "codemirror_mode": {
    "name": "ipython",
    "version": 3
   },
   "file_extension": ".py",
   "mimetype": "text/x-python",
   "name": "python",
   "nbconvert_exporter": "python",
   "pygments_lexer": "ipython3",
   "version": "3.8.10"
  },
  "orig_nbformat": 4,
  "vscode": {
   "interpreter": {
    "hash": "e7370f93d1d0cde622a1f8e1c04877d8463912d04d973331ad4851f04de6915a"
   }
  }
 },
 "nbformat": 4,
 "nbformat_minor": 2
}
